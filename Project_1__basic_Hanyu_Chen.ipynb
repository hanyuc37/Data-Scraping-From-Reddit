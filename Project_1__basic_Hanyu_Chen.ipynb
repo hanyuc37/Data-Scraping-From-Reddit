{
  "nbformat": 4,
  "nbformat_minor": 0,
  "metadata": {
    "colab": {
      "provenance": [],
      "authorship_tag": "ABX9TyPRn9PjtJfYT5u9KredGMrv",
      "include_colab_link": true
    },
    "kernelspec": {
      "name": "python3",
      "display_name": "Python 3"
    },
    "language_info": {
      "name": "python"
    }
  },
  "cells": [
    {
      "cell_type": "markdown",
      "metadata": {
        "id": "view-in-github",
        "colab_type": "text"
      },
      "source": [
        "<a href=\"https://colab.research.google.com/github/hanyuc37/Data-Scraping-From-Reddit/blob/main/Project_1__basic_Hanyu_Chen.ipynb\" target=\"_parent\"><img src=\"https://colab.research.google.com/assets/colab-badge.svg\" alt=\"Open In Colab\"/></a>"
      ]
    },
    {
      "cell_type": "markdown",
      "source": [
        "  The FBI is tracking on a potential smuggling ring that is led by a shady character known by his nom de guerre of The Hamburgler is using social media platforms to help organize her or his efforts. Your mission, should you choose to accept it, is to create a system that uses the API of various services to trace comments made over the last 72 hours that make mention of the terms that he is using as cover: cheese (payments), pickles (firearms), buns (identity covers), meat (targets), and sesame (keys). We need your help tracking this person and associates who may use these terms on social media.\n"
      ],
      "metadata": {
        "id": "JPx71NAtm3oB"
      }
    },
    {
      "cell_type": "markdown",
      "source": [
        "**Install Packages**"
      ],
      "metadata": {
        "id": "n07_cS67YVmM"
      }
    },
    {
      "cell_type": "code",
      "execution_count": null,
      "metadata": {
        "id": "JHaCVNenQYAn"
      },
      "outputs": [],
      "source": [
        "# !pip install praw\n",
        "import praw\n",
        "import pandas as pd \n",
        "import numpy as np\n",
        "from time import sleep\n",
        "from datetime import datetime, timedelta\n",
        "import datetime as dt"
      ]
    },
    {
      "cell_type": "markdown",
      "source": [
        "**API setup and reddit import**"
      ],
      "metadata": {
        "id": "mSnXXrk6YZj0"
      }
    },
    {
      "cell_type": "code",
      "source": [
        "uname = 'xxxxx'\n",
        "upass = 'xxxx'\n",
        "app_id = 'Wwx1gQDGBH1IwlV0Akzd_Q'\n",
        "app_secret = 'rd9-ZSv94ktHU5pGzsY2qaCnn9fKgA'"
      ],
      "metadata": {
        "id": "T9gkpFElnjVj"
      },
      "execution_count": null,
      "outputs": []
    },
    {
      "cell_type": "code",
      "source": [
        "reddit = praw.Reddit(user_agent = \"Receipt\",\n",
        "                     client_id = app_id, client_secret = app_secret, \n",
        "                     username = uname, password = upass)"
      ],
      "metadata": {
        "id": "Yef4ixUkn6xr"
      },
      "execution_count": null,
      "outputs": []
    },
    {
      "cell_type": "markdown",
      "source": [
        "**Choice of subreddit:**\n",
        "  \n",
        "  Based on the key_words, they are components that used to make foods such as sandwiches and bugers. They are widely used as the components as recipes. Therefore, I choose the subreddit called \"RECIPES\"."
      ],
      "metadata": {
        "id": "OWMWR0L3YxZD"
      }
    },
    {
      "cell_type": "code",
      "source": [
        "subreddit = reddit.subreddit (\"RECIPES\")"
      ],
      "metadata": {
        "id": "o4riRMWwoHLO"
      },
      "execution_count": null,
      "outputs": []
    },
    {
      "cell_type": "code",
      "source": [
        "top_subreddit = subreddit.new()"
      ],
      "metadata": {
        "id": "svPY3321wlo3"
      },
      "execution_count": null,
      "outputs": []
    },
    {
      "cell_type": "markdown",
      "source": [
        "**Filter the time**:\n",
        " \n",
        "  Since we only include the time of past 72 hours. I used the current time minus 72 hours, and got the datetime 72 hours ago. Then I set the condition where only extract date between the time before 72 hour and now."
      ],
      "metadata": {
        "id": "imIUyVoWZOQ1"
      }
    },
    {
      "cell_type": "code",
      "source": [
        "datetime.utcnow() - timedelta(hours = 72)"
      ],
      "metadata": {
        "colab": {
          "base_uri": "https://localhost:8080/"
        },
        "id": "HAFt-mDBZxBt",
        "outputId": "80143a8a-65c5-4847-8faa-cc772b3512c0"
      },
      "execution_count": null,
      "outputs": [
        {
          "output_type": "execute_result",
          "data": {
            "text/plain": [
              "datetime.datetime(2023, 1, 10, 18, 31, 54, 778309)"
            ]
          },
          "metadata": {},
          "execution_count": 313
        }
      ]
    },
    {
      "cell_type": "code",
      "source": [
        "time_limit = datetime.utcnow() - timedelta(hours = 72)\n",
        "id_list=[] \n",
        "for x in top_subreddit:\n",
        "  x.comment_sort = 'new'\n",
        "  if dt.datetime.utcfromtimestamp(x.created_utc)>= time_limit:\n",
        "    id_list.append(x)            "
      ],
      "metadata": {
        "colab": {
          "base_uri": "https://localhost:8080/"
        },
        "id": "KBt1LAa7xwEe",
        "outputId": "a6f5337c-9e36-49a8-9da6-88b741dae655"
      },
      "execution_count": null,
      "outputs": [
        {
          "output_type": "stream",
          "name": "stderr",
          "text": [
            "WARNING:praw:It appears that you are using PRAW in an asynchronous environment.\n",
            "It is strongly recommended to use Async PRAW: https://asyncpraw.readthedocs.io.\n",
            "See https://praw.readthedocs.io/en/latest/getting_started/multiple_instances.html#discord-bots-and-asynchronous-environments for more info.\n",
            "\n"
          ]
        }
      ]
    },
    {
      "cell_type": "code",
      "source": [
        "from time import sleep"
      ],
      "metadata": {
        "id": "Rz00o7Dqe9EK"
      },
      "execution_count": null,
      "outputs": []
    },
    {
      "cell_type": "markdown",
      "source": [
        "**Create the data frame**:\n",
        "  \n",
        "  I used pandas dataframe as my output as csv.file. First, I set a dictionary that included the columns of information that needed and append them into the dictionary. Then, change the dictionary to a panda dataframe."
      ],
      "metadata": {
        "id": "gUEv6tXdaRnk"
      }
    },
    {
      "cell_type": "code",
      "source": [
        "my_dict ={'id':[],\n",
        "          'author':[],\n",
        "         'time_created':[],\n",
        "         'comment':[]  \n",
        "}\n",
        "comment_list =[]\n",
        "for eachtopic in id_list:\n",
        "  sleep(1)\n",
        "  submission = reddit.submission(eachtopic)\n",
        "  submission.comments.replace_more(limit =None)\n",
        "  comment_list = submission.comments.list()\n",
        "  for eachcomment in comment_list:\n",
        "    my_dict['id'].append(eachcomment.parent_id)\n",
        "    if not eachcomment.author:\n",
        "      name = 'NoName'\n",
        "    else:\n",
        "      my_dict['author'].append(eachcomment.author.name) \n",
        "    my_dict['time_created'].append(eachcomment.created_utc)\n",
        "    my_dict['comment'].append(eachcomment.body)\n"
      ],
      "metadata": {
        "colab": {
          "base_uri": "https://localhost:8080/"
        },
        "id": "xRmBt-LOoOgj",
        "outputId": "5649b29d-9253-4b59-b684-6040992585b3"
      },
      "execution_count": null,
      "outputs": [
        {
          "output_type": "stream",
          "name": "stderr",
          "text": [
            "WARNING:praw:It appears that you are using PRAW in an asynchronous environment.\n",
            "It is strongly recommended to use Async PRAW: https://asyncpraw.readthedocs.io.\n",
            "See https://praw.readthedocs.io/en/latest/getting_started/multiple_instances.html#discord-bots-and-asynchronous-environments for more info.\n",
            "\n",
            "WARNING:praw:It appears that you are using PRAW in an asynchronous environment.\n",
            "It is strongly recommended to use Async PRAW: https://asyncpraw.readthedocs.io.\n",
            "See https://praw.readthedocs.io/en/latest/getting_started/multiple_instances.html#discord-bots-and-asynchronous-environments for more info.\n",
            "\n",
            "WARNING:praw:It appears that you are using PRAW in an asynchronous environment.\n",
            "It is strongly recommended to use Async PRAW: https://asyncpraw.readthedocs.io.\n",
            "See https://praw.readthedocs.io/en/latest/getting_started/multiple_instances.html#discord-bots-and-asynchronous-environments for more info.\n",
            "\n",
            "WARNING:praw:It appears that you are using PRAW in an asynchronous environment.\n",
            "It is strongly recommended to use Async PRAW: https://asyncpraw.readthedocs.io.\n",
            "See https://praw.readthedocs.io/en/latest/getting_started/multiple_instances.html#discord-bots-and-asynchronous-environments for more info.\n",
            "\n",
            "WARNING:praw:It appears that you are using PRAW in an asynchronous environment.\n",
            "It is strongly recommended to use Async PRAW: https://asyncpraw.readthedocs.io.\n",
            "See https://praw.readthedocs.io/en/latest/getting_started/multiple_instances.html#discord-bots-and-asynchronous-environments for more info.\n",
            "\n",
            "WARNING:praw:It appears that you are using PRAW in an asynchronous environment.\n",
            "It is strongly recommended to use Async PRAW: https://asyncpraw.readthedocs.io.\n",
            "See https://praw.readthedocs.io/en/latest/getting_started/multiple_instances.html#discord-bots-and-asynchronous-environments for more info.\n",
            "\n",
            "WARNING:praw:It appears that you are using PRAW in an asynchronous environment.\n",
            "It is strongly recommended to use Async PRAW: https://asyncpraw.readthedocs.io.\n",
            "See https://praw.readthedocs.io/en/latest/getting_started/multiple_instances.html#discord-bots-and-asynchronous-environments for more info.\n",
            "\n",
            "WARNING:praw:It appears that you are using PRAW in an asynchronous environment.\n",
            "It is strongly recommended to use Async PRAW: https://asyncpraw.readthedocs.io.\n",
            "See https://praw.readthedocs.io/en/latest/getting_started/multiple_instances.html#discord-bots-and-asynchronous-environments for more info.\n",
            "\n",
            "WARNING:praw:It appears that you are using PRAW in an asynchronous environment.\n",
            "It is strongly recommended to use Async PRAW: https://asyncpraw.readthedocs.io.\n",
            "See https://praw.readthedocs.io/en/latest/getting_started/multiple_instances.html#discord-bots-and-asynchronous-environments for more info.\n",
            "\n",
            "WARNING:praw:It appears that you are using PRAW in an asynchronous environment.\n",
            "It is strongly recommended to use Async PRAW: https://asyncpraw.readthedocs.io.\n",
            "See https://praw.readthedocs.io/en/latest/getting_started/multiple_instances.html#discord-bots-and-asynchronous-environments for more info.\n",
            "\n",
            "WARNING:praw:It appears that you are using PRAW in an asynchronous environment.\n",
            "It is strongly recommended to use Async PRAW: https://asyncpraw.readthedocs.io.\n",
            "See https://praw.readthedocs.io/en/latest/getting_started/multiple_instances.html#discord-bots-and-asynchronous-environments for more info.\n",
            "\n",
            "WARNING:praw:It appears that you are using PRAW in an asynchronous environment.\n",
            "It is strongly recommended to use Async PRAW: https://asyncpraw.readthedocs.io.\n",
            "See https://praw.readthedocs.io/en/latest/getting_started/multiple_instances.html#discord-bots-and-asynchronous-environments for more info.\n",
            "\n",
            "WARNING:praw:It appears that you are using PRAW in an asynchronous environment.\n",
            "It is strongly recommended to use Async PRAW: https://asyncpraw.readthedocs.io.\n",
            "See https://praw.readthedocs.io/en/latest/getting_started/multiple_instances.html#discord-bots-and-asynchronous-environments for more info.\n",
            "\n",
            "WARNING:praw:It appears that you are using PRAW in an asynchronous environment.\n",
            "It is strongly recommended to use Async PRAW: https://asyncpraw.readthedocs.io.\n",
            "See https://praw.readthedocs.io/en/latest/getting_started/multiple_instances.html#discord-bots-and-asynchronous-environments for more info.\n",
            "\n",
            "WARNING:praw:It appears that you are using PRAW in an asynchronous environment.\n",
            "It is strongly recommended to use Async PRAW: https://asyncpraw.readthedocs.io.\n",
            "See https://praw.readthedocs.io/en/latest/getting_started/multiple_instances.html#discord-bots-and-asynchronous-environments for more info.\n",
            "\n",
            "WARNING:praw:It appears that you are using PRAW in an asynchronous environment.\n",
            "It is strongly recommended to use Async PRAW: https://asyncpraw.readthedocs.io.\n",
            "See https://praw.readthedocs.io/en/latest/getting_started/multiple_instances.html#discord-bots-and-asynchronous-environments for more info.\n",
            "\n",
            "WARNING:praw:It appears that you are using PRAW in an asynchronous environment.\n",
            "It is strongly recommended to use Async PRAW: https://asyncpraw.readthedocs.io.\n",
            "See https://praw.readthedocs.io/en/latest/getting_started/multiple_instances.html#discord-bots-and-asynchronous-environments for more info.\n",
            "\n"
          ]
        }
      ]
    },
    {
      "cell_type": "code",
      "source": [
        "output_df = pd.DataFrame.from_dict(my_dict,orient ='index')\n",
        "output_df = output_df.T"
      ],
      "metadata": {
        "id": "PdFs8F21BFB4"
      },
      "execution_count": null,
      "outputs": []
    },
    {
      "cell_type": "markdown",
      "source": [
        "**Filter the data frame with key words**:\n",
        "  \n",
        "  lastly, I filtered the data frame only contains the key words cheese, pickles, buns, meat, and sesame."
      ],
      "metadata": {
        "id": "QhtKpa7gawfn"
      }
    },
    {
      "cell_type": "code",
      "source": [
        "key_words =[\"cheese\", \"pickles\", \"buns\", \"meat\",\"sesame\"]\n",
        "key_word_filter = []\n",
        "for i in range(len(key_words)):\n",
        "  for j in range(len(output_df['comment'])):\n",
        "    if key_words[i] in output_df['comment'][j]:\n",
        "      key_word_filter.append(output_df.index[j])\n",
        "df_updated = output_df.filter(items = key_word_filter,axis = 0)"
      ],
      "metadata": {
        "id": "ObbOAPJzUZ8i"
      },
      "execution_count": null,
      "outputs": []
    },
    {
      "cell_type": "markdown",
      "source": [
        "**Convert the timestamps to local time**"
      ],
      "metadata": {
        "id": "WhjCXBHsbEcd"
      }
    },
    {
      "cell_type": "code",
      "source": [
        "standard_time = []\n",
        "for utc in df_updated['time_created']:\n",
        "  standard_time.append(datetime.utcfromtimestamp(utc))\n",
        "df_updated['time_created'] = standard_time"
      ],
      "metadata": {
        "id": "cOSdaWElV0Z-"
      },
      "execution_count": null,
      "outputs": []
    },
    {
      "cell_type": "markdown",
      "source": [
        "**Sort the data frame based on a descending order**"
      ],
      "metadata": {
        "id": "ks4y194nbSdO"
      }
    },
    {
      "cell_type": "code",
      "source": [
        "df_updated = df_updated.sort_values(\"time_created\", ascending = False)\n",
        "df_updated"
      ],
      "metadata": {
        "colab": {
          "base_uri": "https://localhost:8080/",
          "height": 457
        },
        "id": "VK3MXKj4Xvqu",
        "outputId": "68f945de-59cb-46ba-9ce7-35ed194dea6e"
      },
      "execution_count": null,
      "outputs": [
        {
          "output_type": "execute_result",
          "data": {
            "text/plain": [
              "             id               author        time_created  \\\n",
              "16   t3_10aj5dx       macaroniking69 2023-01-13 17:12:05   \n",
              "0    t3_10auakm         BubbaPieFood 2023-01-13 13:18:14   \n",
              "0    t3_10auakm         BubbaPieFood 2023-01-13 13:18:14   \n",
              "52   t3_109x14k          Protolictor 2023-01-12 22:29:27   \n",
              "49   t3_109x14k         Destiny_town 2023-01-12 11:11:09   \n",
              "49   t3_109x14k         Destiny_town 2023-01-12 11:11:09   \n",
              "65   t3_109s890        parisrosaries 2023-01-12 06:17:46   \n",
              "115  t3_1099ka0         CompMolNeuro 2023-01-12 04:24:45   \n",
              "138  t1_j3x1922  Particular_Dot_2063 2023-01-11 23:57:51   \n",
              "108  t3_1099ka0            Chiopista 2023-01-11 22:53:31   \n",
              "96   t3_1099ka0         shots-by-leo 2023-01-11 17:32:33   \n",
              "96   t3_1099ka0         shots-by-leo 2023-01-11 17:32:33   \n",
              "197  t3_108rtrd        theprettytuna 2023-01-11 01:42:25   \n",
              "\n",
              "                                               comment  \n",
              "16                             That’s just Barney meat  \n",
              "0    **INGREDIENTS:**\\n\\n* 1 cup cottage cheese\\n* ...  \n",
              "0    **INGREDIENTS:**\\n\\n* 1 cup cottage cheese\\n* ...  \n",
              "52   Now I want a meat grinder because I'm way too ...  \n",
              "49   Friends, hello!\\n\\nWe haven’t seen each other ...  \n",
              "49   Friends, hello!\\n\\nWe haven’t seen each other ...  \n",
              "65   I've been really into playing with fusion flav...  \n",
              "115  My Mcdonalds Secret sauce doesn't have ketchup...  \n",
              "138                                        No pickles?  \n",
              "108  Haha I thought the spread was some kind of sli...  \n",
              "96   hiya! these were a result of me relaxing with ...  \n",
              "96   hiya! these were a result of me relaxing with ...  \n",
              "197  Original recipe from skinnytaste: https://www....  "
            ],
            "text/html": [
              "\n",
              "  <div id=\"df-0f5f2a83-8081-4188-8b24-13a7de238061\">\n",
              "    <div class=\"colab-df-container\">\n",
              "      <div>\n",
              "<style scoped>\n",
              "    .dataframe tbody tr th:only-of-type {\n",
              "        vertical-align: middle;\n",
              "    }\n",
              "\n",
              "    .dataframe tbody tr th {\n",
              "        vertical-align: top;\n",
              "    }\n",
              "\n",
              "    .dataframe thead th {\n",
              "        text-align: right;\n",
              "    }\n",
              "</style>\n",
              "<table border=\"1\" class=\"dataframe\">\n",
              "  <thead>\n",
              "    <tr style=\"text-align: right;\">\n",
              "      <th></th>\n",
              "      <th>id</th>\n",
              "      <th>author</th>\n",
              "      <th>time_created</th>\n",
              "      <th>comment</th>\n",
              "    </tr>\n",
              "  </thead>\n",
              "  <tbody>\n",
              "    <tr>\n",
              "      <th>16</th>\n",
              "      <td>t3_10aj5dx</td>\n",
              "      <td>macaroniking69</td>\n",
              "      <td>2023-01-13 17:12:05</td>\n",
              "      <td>That’s just Barney meat</td>\n",
              "    </tr>\n",
              "    <tr>\n",
              "      <th>0</th>\n",
              "      <td>t3_10auakm</td>\n",
              "      <td>BubbaPieFood</td>\n",
              "      <td>2023-01-13 13:18:14</td>\n",
              "      <td>**INGREDIENTS:**\\n\\n* 1 cup cottage cheese\\n* ...</td>\n",
              "    </tr>\n",
              "    <tr>\n",
              "      <th>0</th>\n",
              "      <td>t3_10auakm</td>\n",
              "      <td>BubbaPieFood</td>\n",
              "      <td>2023-01-13 13:18:14</td>\n",
              "      <td>**INGREDIENTS:**\\n\\n* 1 cup cottage cheese\\n* ...</td>\n",
              "    </tr>\n",
              "    <tr>\n",
              "      <th>52</th>\n",
              "      <td>t3_109x14k</td>\n",
              "      <td>Protolictor</td>\n",
              "      <td>2023-01-12 22:29:27</td>\n",
              "      <td>Now I want a meat grinder because I'm way too ...</td>\n",
              "    </tr>\n",
              "    <tr>\n",
              "      <th>49</th>\n",
              "      <td>t3_109x14k</td>\n",
              "      <td>Destiny_town</td>\n",
              "      <td>2023-01-12 11:11:09</td>\n",
              "      <td>Friends, hello!\\n\\nWe haven’t seen each other ...</td>\n",
              "    </tr>\n",
              "    <tr>\n",
              "      <th>49</th>\n",
              "      <td>t3_109x14k</td>\n",
              "      <td>Destiny_town</td>\n",
              "      <td>2023-01-12 11:11:09</td>\n",
              "      <td>Friends, hello!\\n\\nWe haven’t seen each other ...</td>\n",
              "    </tr>\n",
              "    <tr>\n",
              "      <th>65</th>\n",
              "      <td>t3_109s890</td>\n",
              "      <td>parisrosaries</td>\n",
              "      <td>2023-01-12 06:17:46</td>\n",
              "      <td>I've been really into playing with fusion flav...</td>\n",
              "    </tr>\n",
              "    <tr>\n",
              "      <th>115</th>\n",
              "      <td>t3_1099ka0</td>\n",
              "      <td>CompMolNeuro</td>\n",
              "      <td>2023-01-12 04:24:45</td>\n",
              "      <td>My Mcdonalds Secret sauce doesn't have ketchup...</td>\n",
              "    </tr>\n",
              "    <tr>\n",
              "      <th>138</th>\n",
              "      <td>t1_j3x1922</td>\n",
              "      <td>Particular_Dot_2063</td>\n",
              "      <td>2023-01-11 23:57:51</td>\n",
              "      <td>No pickles?</td>\n",
              "    </tr>\n",
              "    <tr>\n",
              "      <th>108</th>\n",
              "      <td>t3_1099ka0</td>\n",
              "      <td>Chiopista</td>\n",
              "      <td>2023-01-11 22:53:31</td>\n",
              "      <td>Haha I thought the spread was some kind of sli...</td>\n",
              "    </tr>\n",
              "    <tr>\n",
              "      <th>96</th>\n",
              "      <td>t3_1099ka0</td>\n",
              "      <td>shots-by-leo</td>\n",
              "      <td>2023-01-11 17:32:33</td>\n",
              "      <td>hiya! these were a result of me relaxing with ...</td>\n",
              "    </tr>\n",
              "    <tr>\n",
              "      <th>96</th>\n",
              "      <td>t3_1099ka0</td>\n",
              "      <td>shots-by-leo</td>\n",
              "      <td>2023-01-11 17:32:33</td>\n",
              "      <td>hiya! these were a result of me relaxing with ...</td>\n",
              "    </tr>\n",
              "    <tr>\n",
              "      <th>197</th>\n",
              "      <td>t3_108rtrd</td>\n",
              "      <td>theprettytuna</td>\n",
              "      <td>2023-01-11 01:42:25</td>\n",
              "      <td>Original recipe from skinnytaste: https://www....</td>\n",
              "    </tr>\n",
              "  </tbody>\n",
              "</table>\n",
              "</div>\n",
              "      <button class=\"colab-df-convert\" onclick=\"convertToInteractive('df-0f5f2a83-8081-4188-8b24-13a7de238061')\"\n",
              "              title=\"Convert this dataframe to an interactive table.\"\n",
              "              style=\"display:none;\">\n",
              "        \n",
              "  <svg xmlns=\"http://www.w3.org/2000/svg\" height=\"24px\"viewBox=\"0 0 24 24\"\n",
              "       width=\"24px\">\n",
              "    <path d=\"M0 0h24v24H0V0z\" fill=\"none\"/>\n",
              "    <path d=\"M18.56 5.44l.94 2.06.94-2.06 2.06-.94-2.06-.94-.94-2.06-.94 2.06-2.06.94zm-11 1L8.5 8.5l.94-2.06 2.06-.94-2.06-.94L8.5 2.5l-.94 2.06-2.06.94zm10 10l.94 2.06.94-2.06 2.06-.94-2.06-.94-.94-2.06-.94 2.06-2.06.94z\"/><path d=\"M17.41 7.96l-1.37-1.37c-.4-.4-.92-.59-1.43-.59-.52 0-1.04.2-1.43.59L10.3 9.45l-7.72 7.72c-.78.78-.78 2.05 0 2.83L4 21.41c.39.39.9.59 1.41.59.51 0 1.02-.2 1.41-.59l7.78-7.78 2.81-2.81c.8-.78.8-2.07 0-2.86zM5.41 20L4 18.59l7.72-7.72 1.47 1.35L5.41 20z\"/>\n",
              "  </svg>\n",
              "      </button>\n",
              "      \n",
              "  <style>\n",
              "    .colab-df-container {\n",
              "      display:flex;\n",
              "      flex-wrap:wrap;\n",
              "      gap: 12px;\n",
              "    }\n",
              "\n",
              "    .colab-df-convert {\n",
              "      background-color: #E8F0FE;\n",
              "      border: none;\n",
              "      border-radius: 50%;\n",
              "      cursor: pointer;\n",
              "      display: none;\n",
              "      fill: #1967D2;\n",
              "      height: 32px;\n",
              "      padding: 0 0 0 0;\n",
              "      width: 32px;\n",
              "    }\n",
              "\n",
              "    .colab-df-convert:hover {\n",
              "      background-color: #E2EBFA;\n",
              "      box-shadow: 0px 1px 2px rgba(60, 64, 67, 0.3), 0px 1px 3px 1px rgba(60, 64, 67, 0.15);\n",
              "      fill: #174EA6;\n",
              "    }\n",
              "\n",
              "    [theme=dark] .colab-df-convert {\n",
              "      background-color: #3B4455;\n",
              "      fill: #D2E3FC;\n",
              "    }\n",
              "\n",
              "    [theme=dark] .colab-df-convert:hover {\n",
              "      background-color: #434B5C;\n",
              "      box-shadow: 0px 1px 3px 1px rgba(0, 0, 0, 0.15);\n",
              "      filter: drop-shadow(0px 1px 2px rgba(0, 0, 0, 0.3));\n",
              "      fill: #FFFFFF;\n",
              "    }\n",
              "  </style>\n",
              "\n",
              "      <script>\n",
              "        const buttonEl =\n",
              "          document.querySelector('#df-0f5f2a83-8081-4188-8b24-13a7de238061 button.colab-df-convert');\n",
              "        buttonEl.style.display =\n",
              "          google.colab.kernel.accessAllowed ? 'block' : 'none';\n",
              "\n",
              "        async function convertToInteractive(key) {\n",
              "          const element = document.querySelector('#df-0f5f2a83-8081-4188-8b24-13a7de238061');\n",
              "          const dataTable =\n",
              "            await google.colab.kernel.invokeFunction('convertToInteractive',\n",
              "                                                     [key], {});\n",
              "          if (!dataTable) return;\n",
              "\n",
              "          const docLinkHtml = 'Like what you see? Visit the ' +\n",
              "            '<a target=\"_blank\" href=https://colab.research.google.com/notebooks/data_table.ipynb>data table notebook</a>'\n",
              "            + ' to learn more about interactive tables.';\n",
              "          element.innerHTML = '';\n",
              "          dataTable['output_type'] = 'display_data';\n",
              "          await google.colab.output.renderOutput(dataTable, element);\n",
              "          const docLink = document.createElement('div');\n",
              "          docLink.innerHTML = docLinkHtml;\n",
              "          element.appendChild(docLink);\n",
              "        }\n",
              "      </script>\n",
              "    </div>\n",
              "  </div>\n",
              "  "
            ]
          },
          "metadata": {},
          "execution_count": 310
        }
      ]
    },
    {
      "cell_type": "code",
      "source": [
        "df_updated.to_csv(\"Project1_Basic_Hanyu_Chen.csv\")"
      ],
      "metadata": {
        "id": "p5_LgYGHbuVu"
      },
      "execution_count": null,
      "outputs": []
    }
  ]
}
